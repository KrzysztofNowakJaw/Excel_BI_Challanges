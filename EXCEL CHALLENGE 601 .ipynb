{
 "cells": [
  {
   "cell_type": "code",
   "execution_count": 5,
   "metadata": {},
   "outputs": [
    {
     "data": {
      "text/plain": [
       "Words1    6\n",
       "Words2    4\n",
       "Words3    5\n",
       "dtype: int64"
      ]
     },
     "execution_count": null,
     "metadata": {},
     "output_type": "execute_result"
    }
   ],
   "source": [
    "import pandas as pd\n",
    "\n",
    "# Tworzenie ramki danych\n",
    "data = {\n",
    "    \"Words1\": [\"abder\", \"eaflort\", \"aelmxos\", \"aceilnor\", \"aegilnops\", \"cimanotu\", \"aacdenrt\", \"eillmnor\", \"aegilnorstu\"],\n",
    "    \"Words2\": [\"qb\", \"dcelrt\", \"aioszv\", \"uelms\", \"degiln\", \"egilnor\", \"lnosstu\", \"zceloprst\", \"aegilnoprstuy\"],\n",
    "    \"Words3\": [\"be\", \"cintot\", \"detmos\", \"elmsy\", \"egqilnrt\", \"florstux\", \"gilnopsu\", \"elorstxy\", \"efgianorstuw\"]\n",
    "}\n",
    "df = pd.DataFrame(data)\n",
    "\n",
    "def CountSorted(x):\n",
    "    x = str.lower(x)\n",
    "    Listed = list(x)\n",
    "    Test = Listed == sorted(Listed)\n",
    "    return(Test)\n",
    "\n",
    "\n",
    "Counted = df.map(CountSorted).astype(int)\n",
    "\n",
    "Counted.apply(sum)\n"
   ]
  }
 ],
 "metadata": {
  "language_info": {
   "name": "python"
  }
 },
 "nbformat": 4,
 "nbformat_minor": 2
}
